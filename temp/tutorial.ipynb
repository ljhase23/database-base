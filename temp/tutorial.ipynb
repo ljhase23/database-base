{
 "cells": [
  {
   "cell_type": "code",
   "execution_count": 3,
   "metadata": {},
   "outputs": [
    {
     "name": "stdout",
     "output_type": "stream",
     "text": [
      "('12345', 'Shankar', 'Comp.Sci.', 32)\n",
      "('19991', 'Brandt', 'History', 80)\n",
      "('23121', 'Chavez', 'Finance', 110)\n",
      "('44553', 'Peltier', 'Physics', 56)\n",
      "('45678', 'Levy', 'Physics', 46)\n",
      "('54321', 'Williams', 'Comp.Sci.', 54)\n",
      "('55739', 'Sanchez', 'Music', 38)\n",
      "('70557', 'Snow', 'Physics', 0)\n",
      "('76543', 'Brown', 'Comp.Sci.', 58)\n",
      "('76653', 'Aoi', 'Elec.Eng.', 60)\n",
      "('98765', 'Bourikas', 'Elec.Eng.', 98)\n"
     ]
    }
   ],
   "source": [
    "import pymssql\n",
    "\n",
    "# conn = pymssql.connect(server=\"210.115.229.92:11433\", user=\"M22518\", password=\"M22518@hallym\", charset='utf8')\n",
    "conn = pymssql.connect(server=\"localhost\", database = 'test')\n",
    "cursor = conn.cursor()\n",
    "\n",
    "sql = \"select * from student\"\n",
    "cursor.execute(sql)\n",
    "cursor.fetchone()\n",
    "\n",
    "for row in cursor :\n",
    "    print(row)\n",
    "conn.close()"
   ]
  }
 ],
 "metadata": {
  "kernelspec": {
   "display_name": "Python 3.9.13 ('temp')",
   "language": "python",
   "name": "python3"
  },
  "language_info": {
   "codemirror_mode": {
    "name": "ipython",
    "version": 3
   },
   "file_extension": ".py",
   "mimetype": "text/x-python",
   "name": "python",
   "nbconvert_exporter": "python",
   "pygments_lexer": "ipython3",
   "version": "3.10.8"
  },
  "orig_nbformat": 4,
  "vscode": {
   "interpreter": {
    "hash": "3e58835efee9408a83f510bddb820102a0b5b824c3cde95e6736bf8f779bc280"
   }
  }
 },
 "nbformat": 4,
 "nbformat_minor": 2
}
